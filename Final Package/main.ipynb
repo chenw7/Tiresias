{
 "cells": [
  {
   "cell_type": "code",
   "execution_count": 5,
   "id": "da5d60f0",
   "metadata": {},
   "outputs": [
    {
     "name": "stderr",
     "output_type": "stream",
     "text": [
      "c:\\Users\\nxg15046\\AppData\\Local\\Programs\\Python\\Python313\\Lib\\site-packages\\pandas\\core\\apply.py:1081: RuntimeWarning: Precision loss occurred in moment calculation due to catastrophic cancellation. This occurs when the data are nearly identical. Results may be unreliable.\n",
      "  results[i] = self.func(v, *self.args, **self.kwargs)\n",
      "c:\\Users\\nxg15046\\AppData\\Local\\Programs\\Python\\Python313\\Lib\\site-packages\\pandas\\core\\apply.py:1081: RuntimeWarning: Precision loss occurred in moment calculation due to catastrophic cancellation. This occurs when the data are nearly identical. Results may be unreliable.\n",
      "  results[i] = self.func(v, *self.args, **self.kwargs)\n",
      "c:\\Users\\nxg15046\\AppData\\Local\\Programs\\Python\\Python313\\Lib\\site-packages\\pandas\\core\\apply.py:1081: RuntimeWarning: Precision loss occurred in moment calculation due to catastrophic cancellation. This occurs when the data are nearly identical. Results may be unreliable.\n",
      "  results[i] = self.func(v, *self.args, **self.kwargs)\n",
      "c:\\Users\\nxg15046\\AppData\\Local\\Programs\\Python\\Python313\\Lib\\site-packages\\pandas\\core\\apply.py:1081: RuntimeWarning: Precision loss occurred in moment calculation due to catastrophic cancellation. This occurs when the data are nearly identical. Results may be unreliable.\n",
      "  results[i] = self.func(v, *self.args, **self.kwargs)\n",
      "c:\\Users\\nxg15046\\AppData\\Local\\Programs\\Python\\Python313\\Lib\\site-packages\\sklearn\\utils\\validation.py:2739: UserWarning: X does not have valid feature names, but LGBMClassifier was fitted with feature names\n",
      "  warnings.warn(\n"
     ]
    }
   ],
   "source": [
    "from helper import FeatureEngineer, AnomalyDetector\n",
    "\n",
    "# Step 1: Initialize FeatureEngineer with your raw data\n",
    "fe = FeatureEngineer('Data_Raw.csv')\n",
    "\n",
    "# Step 2: Access engineered features (optional)\n",
    "features = fe.get_features()\n",
    "# print(\"Engineered Features:\")\n",
    "# print(features.head())\n",
    "\n",
    "# Step 3: Initialize AnomalyDetector with the FeatureEngineer instance\n",
    "detector = AnomalyDetector(fe)\n",
    "\n",
    "# Step 4: Get anomalies\n",
    "anomalies = detector.get_anomalies()\n",
    "# print(\"\\nDetected Anomalies:\")\n",
    "# for test_param, sites in anomalies.items():\n",
    "#     print(f\"Test Parameter {test_param}: Anomalous Sites -> {sites}\")"
   ]
  },
  {
   "cell_type": "code",
   "execution_count": null,
   "id": "6cdb83e8",
   "metadata": {},
   "outputs": [],
   "source": []
  }
 ],
 "metadata": {
  "kernelspec": {
   "display_name": "Python 3",
   "language": "python",
   "name": "python3"
  },
  "language_info": {
   "codemirror_mode": {
    "name": "ipython",
    "version": 3
   },
   "file_extension": ".py",
   "mimetype": "text/x-python",
   "name": "python",
   "nbconvert_exporter": "python",
   "pygments_lexer": "ipython3",
   "version": "3.13.5"
  }
 },
 "nbformat": 4,
 "nbformat_minor": 5
}
