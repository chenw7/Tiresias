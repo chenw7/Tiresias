{
 "cells": [
  {
   "cell_type": "code",
   "execution_count": 4,
   "id": "d00346c4",
   "metadata": {},
   "outputs": [],
   "source": [
    "import pandas as pd\n",
    "import numpy as np\n",
    "from scipy.stats import mode, zscore, median_abs_deviation"
   ]
  },
  {
   "cell_type": "code",
   "execution_count": 5,
   "id": "c5fd62c3",
   "metadata": {},
   "outputs": [
    {
     "name": "stderr",
     "output_type": "stream",
     "text": [
      "C:\\Users\\nxg15046\\AppData\\Local\\Temp\\2\\ipykernel_7564\\3151963433.py:4: DtypeWarning: Columns (1,2,6,7,8,9,10,11,12,13,14,15,16,17,18,19,20,21,22,23,24,25,26,27,28,29,30,31,32,33,34,35,36,37,38,39,40,41,42,43,44,45,46,47,48,49,50,51,52,53,54,55,56,57,58,59,60,61,62,63,64,65,66,67,68,69,70,71,72,73,74,75,76,77,78,79,80,81,82,83,84,85,86,87,88,89,90,91,92,93,94,95,96,97,98,99,100,101,102,103,104,105,106,107,108,109,110,111,112,113,114,115,116,117,118,119,120,121,122,123,124,125,126,127,128,129,130,131,132,133,134,135,136,137,138,139,140,141,142,143,144,145,146,147,148,149,150,151,152,153,154,155,156,157,158,159,160,161,162,163,164,165,166,167,168,169,170,171,172,173,174,175,176,177,178,179,180,181,182,183,184,185,186,187,188,189,190,191,192,193,194,195,196,197,198,199,200,201,202,203,204,205,206,207,208,209,210,211,212,213,214,215,216,217,218,219,220,221,222,223,224,225,226,227,228,229,230,231,232,233,234,235,236,237,238,239,240,241,242,243,244,245,246,247,248,249,250,251,252,253,254,255,256,257,258,259,260,261,262,263,264,265,266,267,268,269,270,271,272,273,274,275,276,277,278,279,280,281,282,283,284,285,286,287,288,289,290,291,292,293,294,295,296,297,298,299,300,301,302,303,304,305,306,307,308,309,310,311,312,313,314,315,316,317,318,319,320,321,322,323,324,325,326,327,328,329,330,331,332,333,334,335,336,337,338,339,340,341,342,343,344,345,346,347,348,349,350,351,352,353,354,355,356,357,358,359,360,361,362,363,364,365,366,367,368,369,370,371,372,373,374,375,376,377,378,379,380,381,382,383,384,385,386,387,388,389,390,391,392,393,394) have mixed types. Specify dtype option on import or set low_memory=False.\n",
      "  data = pd.read_csv(\"Data_Niki.csv\")\n"
     ]
    },
    {
     "name": "stdout",
     "output_type": "stream",
     "text": [
      "(2671, 192)\n",
      "(2671, 192)\n"
     ]
    }
   ],
   "source": [
    "# Getting Niki's Summary Spreadsheet\n",
    "\n",
    "# Load Data\n",
    "data = pd.read_csv(\"Data_Niki.csv\")\n",
    "\n",
    "# Dropping Unnecessary Rows and Columns\n",
    "data = data.drop(index=[0,1])\n",
    "columns_to_drop = [\"Dont care\", \"Visualization\", \"Visualization.1\", \"Engineer classification\", \"Parameter name\", \"Unnamed: 9\"]\n",
    "param_name = data[\"Parameter name\"]\n",
    "data = data.drop(columns=columns_to_drop, errors='ignore')\n",
    "data['Engineer classification.1'] = (data['Engineer classification.1'] == 'Release').astype(int)\n",
    "\n",
    "# Converting from String to Numerical\n",
    "data = data.apply(pd.to_numeric, errors='coerce') \n",
    "columns_to_drop = ['Engineer classification.1', 'Tranditional statistics', 'Unnamed: 7', 'Unnamed: 8']\n",
    "labels = data['Engineer classification.1']\n",
    "\n",
    "# Extracting Median and Std\n",
    "only_med_std = data.drop(columns=columns_to_drop, axis=1)\n",
    "med = only_med_std.iloc[:, 0:192]\n",
    "std = only_med_std.iloc[:, 192:384]\n",
    "\n",
    "print(med.shape)\n",
    "print(std.shape)"
   ]
  },
  {
   "cell_type": "code",
   "execution_count": 6,
   "id": "c9c0a92a",
   "metadata": {},
   "outputs": [],
   "source": [
    "# Getting Raw Spreadsheet\n",
    "data = pd.read_csv(\"Data_Raw.csv\", header=1)\n",
    "sites = data['site']\n",
    "\n",
    "# Dropping Unnecessary Rows and Columns\n",
    "filtered_ordered_columns = [col for col in param_name if col in data.columns]\n",
    "data = data[filtered_ordered_columns]\n",
    "data = pd.concat([sites, data], axis=1)\n",
    "data = data.apply(pd.to_numeric, errors='coerce') "
   ]
  },
  {
   "cell_type": "code",
   "execution_count": 4,
   "id": "04936beb",
   "metadata": {},
   "outputs": [],
   "source": [
    "# Obtaining Median and Std for Each Site and Each Parameter\n",
    "site_med = data.groupby('site').median()\n",
    "site_std = data.groupby('site').std()\n",
    "\n",
    "site_med = site_med.fillna(0)\n",
    "site_std = site_std.fillna(0)\n",
    "\n",
    "site_med = site_med.T.copy()\n",
    "site_std = site_std.T.copy()"
   ]
  },
  {
   "cell_type": "code",
   "execution_count": 5,
   "id": "a3c918dd",
   "metadata": {},
   "outputs": [
    {
     "name": "stdout",
     "output_type": "stream",
     "text": [
      "No differences for med\n",
      "No differences for std\n"
     ]
    }
   ],
   "source": [
    "# Comparing New Median to Old Median\n",
    "drastic_differences_med = ~np.isclose(med, site_med, rtol = 0.05)\n",
    "diff_locations = np.where(drastic_differences_med)\n",
    "comparison_df_med = pd.DataFrame({\n",
    "    'Row': diff_locations[0],\n",
    "    'Column': site_med.columns[diff_locations[1]],\n",
    "    'med': med.values[diff_locations],\n",
    "    'newmed': site_med.values[diff_locations]\n",
    "})\n",
    "\n",
    "# Comparing New std to Old std\n",
    "drastic_differences_std = ~np.isclose(std, site_std, rtol = 0.05)\n",
    "diff_locations = np.where(drastic_differences_std)\n",
    "comparison_df_std = pd.DataFrame({\n",
    "    'Row': diff_locations[0],\n",
    "    'Column': site_std.columns[diff_locations[1]],\n",
    "    'med': std.values[diff_locations],\n",
    "    'newmed': site_std.values[diff_locations]\n",
    "})\n",
    "\n",
    "if comparison_df_med.empty:\n",
    "    print(\"No differences for med\")\n",
    "else:\n",
    "    print(\"Med has problem\")\n",
    "\n",
    "if comparison_df_std.empty:\n",
    "    print(\"No differences for std\")\n",
    "else:\n",
    "    print(\"std has problem\")"
   ]
  }
 ],
 "metadata": {
  "kernelspec": {
   "display_name": "Python 3",
   "language": "python",
   "name": "python3"
  },
  "language_info": {
   "codemirror_mode": {
    "name": "ipython",
    "version": 3
   },
   "file_extension": ".py",
   "mimetype": "text/x-python",
   "name": "python",
   "nbconvert_exporter": "python",
   "pygments_lexer": "ipython3",
   "version": "3.13.5"
  }
 },
 "nbformat": 4,
 "nbformat_minor": 5
}
